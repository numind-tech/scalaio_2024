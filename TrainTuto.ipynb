{
 "cells": [
  {
   "cell_type": "code",
   "execution_count": null,
   "id": "cbc89d30-967b-431b-885b-018658e3fd42",
   "metadata": {},
   "outputs": [],
   "source": [
    "import $ivy.`ai.djl:api:0.21.0`\n",
    "import $ivy.`ai.djl:basicdataset:0.21.0`\n",
    "import $ivy.`ai.djl.pytorch:pytorch-engine:0.21.0`\n",
    "import $ivy.`ai.djl.huggingface:tokenizers:0.21.0`\n",
    "import $ivy.`org.slf4j:slf4j-simple:1.7.32`\n",
    "\n",
    "\n",
    "import ai.djl.Application\n",
    "import ai.djl.Model\n",
    "import ai.djl.ModelException\n",
    "import ai.djl.basicdataset.tabular.CsvDataset\n",
    "import ai.djl.basicdataset.tabular.utils.DynamicBuffer\n",
    "import ai.djl.basicdataset.tabular.utils.Feature\n",
    "import ai.djl.basicdataset.tabular.utils.Featurizer.DataFeaturizer\n",
    "import ai.djl.engine.Engine\n",
    "import ai.djl.metric.Metrics\n",
    "import ai.djl.inference.*\n",
    "import ai.djl.modality.nlp.DefaultVocabulary\n",
    "import ai.djl.modality.nlp.Vocabulary\n",
    "import ai.djl.modality.nlp.bert.BertFullTokenizer\n",
    "import ai.djl.ndarray.NDArray\n",
    "import ai.djl.ndarray.NDList\n",
    "import ai.djl.ndarray.types.DataType\n",
    "import ai.djl.ndarray.types.Shape\n",
    "import ai.djl.nn.Activation\n",
    "import ai.djl.nn.Block\n",
    "import ai.djl.nn.LambdaBlock\n",
    "import ai.djl.nn.SequentialBlock\n",
    "import ai.djl.nn.core.Linear\n",
    "import ai.djl.nn.norm.Dropout\n",
    "import ai.djl.repository.zoo.Criteria\n",
    "import ai.djl.repository.zoo.ZooModel\n",
    "import ai.djl.training.DefaultTrainingConfig\n",
    "import ai.djl.training.EasyTrain\n",
    "import ai.djl.training.ParameterStore\n",
    "import ai.djl.training.Trainer\n",
    "import ai.djl.training.TrainingResult\n",
    "import ai.djl.training.dataset.RandomAccessDataset\n",
    "import ai.djl.training.evaluator.Accuracy\n",
    "import ai.djl.training.listener.SaveModelTrainingListener\n",
    "import ai.djl.training.listener.TrainingListener\n",
    "import ai.djl.training.loss.Loss\n",
    "import ai.djl.training.util.ProgressBar\n",
    "import ai.djl.translate.*\n",
    "import ai.djl.ndarray.NDManager\n",
    "import scala.util.*\n",
    "import org.apache.commons.csv.CSVFormat\n",
    "import scala.collection.mutable\n",
    "import scala.collection.JavaConverters.*\n",
    "import java.util.Locale\n",
    "import java.nio.file.*\n",
    "import java.io.*"
   ]
  },
  {
   "cell_type": "code",
   "execution_count": null,
   "id": "601f2cf1-0fdc-4cae-886a-6251da3688b7",
   "metadata": {},
   "outputs": [],
   "source": [
    "System.setProperty(\"PYTORCH_FLAVOR\", \"cu123\")"
   ]
  },
  {
   "cell_type": "code",
   "execution_count": null,
   "id": "8d5b413a-6a91-49e0-88c1-98243162e3f6",
   "metadata": {},
   "outputs": [],
   "source": [
    "val outputDir: String = \"result\"\n",
    "val epochs = 2\n",
    "val batchSize = 32\n",
    "val limit = 200 // Long.MaxValue"
   ]
  },
  {
   "cell_type": "code",
   "execution_count": null,
   "id": "50beb221-5ed6-46c4-b6a2-120370cc9c78",
   "metadata": {},
   "outputs": [],
   "source": [
    "Files.list(Path.of(outputDir)).forEach(Files.delete)"
   ]
  },
  {
   "cell_type": "code",
   "execution_count": null,
   "id": "a2f7f7b5-ae5f-47db-90db-242aa80b97ee",
   "metadata": {},
   "outputs": [],
   "source": [
    "val modelUrls = \"https://resources.djl.ai/test-models/traced_distilbert_wikipedia_uncased.zip\"\n",
    "\n",
    "val criteria: Criteria[NDList, NDList] = Criteria.builder()\n",
    "  .optApplication(Application.NLP.WORD_EMBEDDING)\n",
    "  .setTypes(classOf[NDList], classOf[NDList])\n",
    "  .optModelUrls(modelUrls)\n",
    "  .optEngine(Engine.getDefaultEngineName())\n",
    "  .optProgress(new ProgressBar())\n",
    "  .optOption(\"trainParam\", \"true\")\n",
    "  .build()\n",
    "\n",
    "val maxTokenLenght = 64\n",
    "\n",
    "val model: Model = Model.newInstance(\"AmazonReviewRatingClassification\")\n",
    "val embedding: ZooModel[NDList, NDList] = criteria.loadModel()\n",
    "\n",
    "val vocabulary = DefaultVocabulary.builder().addFromTextFile(embedding.getArtifact(\"vocab.txt\")).optUnknownToken(\"[UNK]\").build()\n",
    "\n",
    "val tokenizer = new BertFullTokenizer(vocabulary, true);"
   ]
  },
  {
   "cell_type": "code",
   "execution_count": null,
   "id": "7ef99a10-2059-4699-82c4-3cca536ea07f",
   "metadata": {},
   "outputs": [],
   "source": [
    "class BertFeaturizer(tokenizer: BertFullTokenizer, maxLength: Int) extends DataFeaturizer {\n",
    "  override def featurize(buf: DynamicBuffer, input: String): Unit = {\n",
    "    val vocab = tokenizer.getVocabulary\n",
    "    var tokens = tokenizer.tokenize(input.toLowerCase(Locale.ENGLISH))\n",
    "    if (tokens.size > maxLength) {\n",
    "      tokens = tokens.subList(0, maxLength)\n",
    "    }\n",
    "    buf.put(vocab.getIndex(\"[CLS]\"))\n",
    "    tokens.asScala.foreach(token => buf.put(vocab.getIndex(token)))\n",
    "    buf.put(vocab.getIndex(\"[SEP]\"))\n",
    "  }\n",
    "}"
   ]
  },
  {
   "cell_type": "code",
   "execution_count": null,
   "id": "fe491a79-9acc-4947-8212-ed31b17ce10b",
   "metadata": {},
   "outputs": [],
   "source": [
    "val amazonReview = \"https://mlrepo.djl.ai/dataset/nlp/ai/djl/basicdataset/amazon_reviews/1.0/amazon_reviews_us_Digital_Software_v1_00.tsv.gz\"\n",
    "val paddingToken = tokenizer.getVocabulary().getIndex(\"[PAD]\")\n",
    "val featurizer = new BertFeaturizer(tokenizer, maxTokenLenght)\n",
    "val amazonReviewDataset = CsvDataset.builder()\n",
    "                .optCsvUrl(amazonReview)\n",
    "                .setCsvFormat(CSVFormat.TDF.builder().setQuote(null).setHeader().build())\n",
    "                .setSampling(batchSize, true)\n",
    "                .addFeature(new Feature(\"review_body\", featurizer))\n",
    "                .addLabel(new Feature(\"star_rating\", (buf, data) => buf.put(data.toFloat - 1.0f)))\n",
    "                .optDataBatchifier(\n",
    "                  PaddingStackBatchifier\n",
    "                    .builder()\n",
    "                    .optIncludeValidLengths(false)\n",
    "                    .addPad(0, 0, (m: NDManager) => m.ones(new Shape(1)).mul(paddingToken))\n",
    "                    .build()\n",
    "                ).optLimit(limit)\n",
    "                .build()\n",
    "\n",
    "val datasets = amazonReviewDataset.randomSplit(7, 3)\n",
    "val trainingSet = datasets(0)\n",
    "val validationSet = datasets(1)"
   ]
  },
  {
   "cell_type": "code",
   "execution_count": null,
   "id": "c4713c02-ed86-409d-bcef-16ea6aaf6767",
   "metadata": {},
   "outputs": [],
   "source": [
    "val classifier = new SequentialBlock()\n",
    "\n",
    "val lambda = new LambdaBlock({ ndList =>\n",
    "  val data: NDArray = ndList.singletonOrThrow()\n",
    "  val inputs = new NDList()\n",
    "  inputs.add(data.toType(DataType.INT64, false))\n",
    "  inputs.add(data.getManager.full(data.getShape, 1, DataType.INT64))\n",
    "  inputs.add(\n",
    "    data.getManager.arange(data.getShape.get(1))\n",
    "      .toType(DataType.INT64, false)\n",
    "      .broadcast(data.getShape))\n",
    "  inputs\n",
    "})\n",
    "\n",
    "classifier.add(lambda)\n",
    "classifier.add(embedding.getBlock())\n",
    "\n",
    "\n",
    "classifier\n",
    "                .add(Linear.builder().setUnits(768).build()) // pre classifier\n",
    "                .add(Activation.relu(_: NDList))\n",
    "                .add(Dropout.builder().optRate(0.2f).build())\n",
    "                .add(Linear.builder().setUnits(5).build()) // 5 star rating\n",
    "                .addSingleton(_.get(\":,0\")); // follow HF classifier\n",
    "\n",
    "model.setBlock(classifier)"
   ]
  },
  {
   "cell_type": "code",
   "execution_count": null,
   "id": "98c649ae-cbf4-410a-952a-b28ed95210ea",
   "metadata": {},
   "outputs": [],
   "source": [
    "val listener: SaveModelTrainingListener = new SaveModelTrainingListener(outputDir)\n",
    "listener.setSaveModelCallback { trainer => \n",
    "    val result: TrainingResult = trainer.getTrainingResult\n",
    "    val model: Model = trainer.getModel\n",
    "    val accuracy: Float = result.getValidateEvaluation(\"Accuracy\").toFloat\n",
    "    model.setProperty(\"Accuracy\", f\"${accuracy}%.5f\")\n",
    "    model.setProperty(\"Loss\", f\"${result.getValidateLoss}%.5f\")\n",
    "    println(\"Model was saved\")\n",
    "}\n",
    "\n",
    "val config = new DefaultTrainingConfig(Loss.softmaxCrossEntropyLoss())\n",
    "                .addEvaluator(new Accuracy())\n",
    "                .addTrainingListeners(TrainingListener.Defaults.logging(outputDir)*)\n",
    "                .addTrainingListeners(listener)\n",
    "\n"
   ]
  },
  {
   "cell_type": "code",
   "execution_count": null,
   "id": "4c42c326-6a56-4bec-9c9e-abc81e6d1e6a",
   "metadata": {},
   "outputs": [],
   "source": [
    "Using.resource(model.newTrainer(config)) { trainer =>\n",
    "  trainer.setMetrics(new Metrics())\n",
    "  trainer.initialize(new Shape(batchSize, maxTokenLenght))\n",
    "  EasyTrain.fit(trainer, epochs, trainingSet, validationSet)\n",
    "  trainer.getTrainingResult()\n",
    "}"
   ]
  },
  {
   "cell_type": "code",
   "execution_count": null,
   "id": "6b7ad43f-595b-4433-8943-a37047c797c7",
   "metadata": {},
   "outputs": [],
   "source": [
    "val translator = new Translator[String, Array[Float]] {\n",
    "\n",
    "    override def processInput(\n",
    "      ctx: TranslatorContext,\n",
    "      input: String\n",
    "  ): NDList = {\n",
    "    val vocab = tokenizer.getVocabulary\n",
    "    var tokens = tokenizer.tokenize(input.toLowerCase(Locale.ENGLISH))\n",
    "    if (tokens.size > maxTokenLenght) {\n",
    "      tokens = tokens.subList(0, maxTokenLenght)\n",
    "    }\n",
    "    tokens.add(0, \"[CLS]\")\n",
    "    tokens.add(\"[SEP]\")\n",
    "    val features = tokens.asScala.map(vocab.getIndex(_)).toArray\n",
    "    val  manager = ctx.getNDManager();\n",
    "    new NDList(manager.create(features))\n",
    "    \n",
    "  }\n",
    "\n",
    "   override def processOutput(\n",
    "     ctx: TranslatorContext,\n",
    "     list: NDList\n",
    "  ): Array[Float] = {\n",
    "     println(list.getShapes.mkString(\",\"))\n",
    "     list.singletonOrThrow().toType(DataType.FLOAT32, true).softmax(0).toFloatArray()\n",
    "   }\n",
    " }"
   ]
  },
  {
   "cell_type": "code",
   "execution_count": null,
   "id": "c3f0af55-c2c2-43cd-8a71-b7f23664dfee",
   "metadata": {},
   "outputs": [],
   "source": [
    "val t = model.newPredictor(translator)\n",
    "println(t.predict(\"Hello, scala.io\").mkString(\"[\", \",\", \"]\"))\n",
    "println(\"Input shapes\")\n",
    "println(model.getBlock.getInputShapes.mkString(\"[\", \", \", \"]\"))\n",
    "println(\"Output shapes\")\n",
    "println(model.getBlock.getOutputShapes(Array(new Shape(32, 64))).mkString(\", \"))"
   ]
  },
  {
   "cell_type": "code",
   "execution_count": null,
   "id": "d79a8be4-6025-42a4-9706-3a8adbb3756b",
   "metadata": {},
   "outputs": [],
   "source": [
    "t.close()\n",
    "model.close()"
   ]
  },
  {
   "cell_type": "code",
   "execution_count": null,
   "id": "ae6b18ab-a6eb-4f0a-93bd-c5b4254eae64",
   "metadata": {},
   "outputs": [],
   "source": [
    "val reloaded = Model.newInstance(\"reloaded\")\n",
    "reloaded.setBlock(new SequentialBlock())\n",
    "reloaded.load(Path.of(outputDir), \"AmazonReviewRatingClassification\", Map(\"epoch\" -> epochs.toString).asJava)\n",
    "println(\"Input shapes\")\n",
    "println(reloaded.getBlock.getInputShapes.mkString(\"[\", \", \", \"]\"))\n",
    "println(\"Output shapes\")\n",
    "println(reloaded.getBlock.getOutputShapes(model.getBlock.getInputShapes).mkString(\", \"))\n"
   ]
  },
  {
   "cell_type": "code",
   "execution_count": null,
   "id": "8106def7-b394-47c8-8be1-5b951c03a49c",
   "metadata": {},
   "outputs": [],
   "source": [
    "val predictor = reloaded.newPredictor(translator)"
   ]
  },
  {
   "cell_type": "code",
   "execution_count": null,
   "id": "672b0a9b-1fbb-4434-aa81-31f4c70527cb",
   "metadata": {},
   "outputs": [],
   "source": [
    "val r = predictor.predict(\"Hello, scala.io!\")"
   ]
  },
  {
   "cell_type": "code",
   "execution_count": null,
   "id": "a1ca8f13-730c-495b-b715-f79f552a7e3d",
   "metadata": {},
   "outputs": [],
   "source": []
  }
 ],
 "metadata": {
  "kernelspec": {
   "display_name": "Scala 3.2.2 (almond 0.13.14)",
   "language": "scala",
   "name": "scala"
  },
  "language_info": {
   "codemirror_mode": "text/x-scala",
   "file_extension": ".sc",
   "mimetype": "text/x-scala",
   "name": "scala",
   "nbconvert_exporter": "script",
   "version": "2.13.10"
  }
 },
 "nbformat": 4,
 "nbformat_minor": 5
}
