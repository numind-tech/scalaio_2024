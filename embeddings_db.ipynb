{
 "cells": [
  {
   "cell_type": "code",
   "execution_count": 1,
   "id": "9dce8f4d",
   "metadata": {
    "collapsed": false,
    "jupyter": {
     "outputs_hidden": false
    }
   },
   "outputs": [
    {
     "data": {
      "text/plain": [
       "\u001b[32mimport \u001b[39m\u001b[36m$ivy.$                       \n",
       "\u001b[39m"
      ]
     },
     "execution_count": 1,
     "metadata": {},
     "output_type": "execute_result"
    }
   ],
   "source": [
    "import $ivy.`io.qdrant:client:1.7.1`"
   ]
  },
  {
   "cell_type": "code",
   "execution_count": 2,
   "id": "99c13e1d",
   "metadata": {
    "collapsed": false,
    "jupyter": {
     "outputs_hidden": false
    }
   },
   "outputs": [
    {
     "data": {
      "text/plain": [
       "\u001b[32mimport \u001b[39m\u001b[36mio.qdrant.client.*\n",
       "\u001b[39m\n",
       "\u001b[32mimport \u001b[39m\u001b[36mio.qdrant.client.grpc.Collections.*\n",
       "\u001b[39m"
      ]
     },
     "execution_count": 2,
     "metadata": {},
     "output_type": "execute_result"
    }
   ],
   "source": [
    "import io.qdrant.client.*\n",
    "import io.qdrant.client.grpc.Collections.*"
   ]
  },
  {
   "cell_type": "code",
   "execution_count": null,
   "id": "de0a0a72",
   "metadata": {
    "collapsed": false,
    "jupyter": {
     "outputs_hidden": false
    }
   },
   "outputs": [
    {
     "name": "stderr",
     "output_type": "stream",
     "text": [
      "SLF4J: No SLF4J providers were found.\n",
      "SLF4J: Defaulting to no-operation (NOP) logger implementation\n",
      "SLF4J: See https://www.slf4j.org/codes.html#noProviders for further details.\n",
      "Exception in thread \"grpc-default-executor-0\" io.grpc.StatusRuntimeException: INTERNAL: Failed to frame message\n",
      "\tat io.grpc.Status.asRuntimeException(Status.java:529)\n",
      "\tat io.grpc.internal.MessageFramer.writePayload(MessageFramer.java:154)\n",
      "\tat io.grpc.internal.AbstractStream.writeMessage(AbstractStream.java:66)\n",
      "\tat io.grpc.internal.ForwardingClientStream.writeMessage(ForwardingClientStream.java:37)\n",
      "\tat io.grpc.internal.DelayedStream$6.run(DelayedStream.java:283)\n",
      "\tat io.grpc.internal.DelayedStream.drainPendingCalls(DelayedStream.java:182)\n",
      "\tat io.grpc.internal.DelayedStream.access$100(DelayedStream.java:44)\n",
      "\tat io.grpc.internal.DelayedStream$4.run(DelayedStream.java:148)\n",
      "\tat java.base/java.util.concurrent.ThreadPoolExecutor.runWorker(ThreadPoolExecutor.java:1136)\n",
      "\tat java.base/java.util.concurrent.ThreadPoolExecutor$Worker.run(ThreadPoolExecutor.java:635)\n",
      "\tat java.base/java.lang.Thread.run(Thread.java:840)\n",
      "Caused by: java.lang.UnsupportedOperationException: This is supposed to be overridden by subclasses.\n",
      "\tat com.google.protobuf.GeneratedMessageV3.getUnknownFields(GeneratedMessageV3.java:302)\n",
      "\tat io.qdrant.client.grpc.Collections$VectorParams.getSerializedSize(Collections.java:1602)\n",
      "\tat com.google.protobuf.CodedOutputStream.computeMessageSizeNoTag(CodedOutputStream.java:877)\n",
      "\tat com.google.protobuf.CodedOutputStream.computeMessageSize(CodedOutputStream.java:661)\n",
      "\tat io.qdrant.client.grpc.Collections$VectorsConfig.getSerializedSize(Collections.java:5259)\n",
      "\tat com.google.protobuf.CodedOutputStream.computeMessageSizeNoTag(CodedOutputStream.java:877)\n",
      "\tat com.google.protobuf.CodedOutputStream.computeMessageSize(CodedOutputStream.java:661)\n",
      "\tat io.qdrant.client.grpc.Collections$CreateCollection.getSerializedSize(Collections.java:22386)\n",
      "\tat io.grpc.protobuf.lite.ProtoInputStream.available(ProtoInputStream.java:108)\n",
      "\tat io.grpc.internal.MessageFramer.getKnownLength(MessageFramer.java:208)\n",
      "\tat io.grpc.internal.MessageFramer.writePayload(MessageFramer.java:138)\n",
      "\t... 9 more\n"
     ]
    }
   ],
   "source": [
    "val client = \n",
    "  new QdrantClient(QdrantGrpcClient.newBuilder(\"localhost\", 6334, false).build())\n",
    "\n",
    "client.createCollectionAsync(\"scala_io\",\n",
    "  VectorParams.newBuilder()\n",
    "    .setDistance(Distance.Cosine)\n",
    "    .setSize(768)\n",
    "    .build())\n",
    "  .get()"
   ]
  }
 ],
 "metadata": {
  "kernelspec": {
   "display_name": "Scala 3.2.2 (almond 0.13.14)",
   "language": "scala",
   "name": "scala"
  },
  "language_info": {
   "codemirror_mode": "text/x-scala",
   "file_extension": ".sc",
   "mimetype": "text/x-scala",
   "name": "scala",
   "nbconvert_exporter": "script",
   "version": "2.13.10"
  }
 },
 "nbformat": 4,
 "nbformat_minor": 5
}
